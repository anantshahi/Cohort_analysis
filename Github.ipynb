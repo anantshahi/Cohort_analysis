{
  "nbformat": 4,
  "nbformat_minor": 0,
  "metadata": {
    "colab": {
      "name": "Github.ipynb",
      "provenance": [],
      "authorship_tag": "ABX9TyOxiUQ1rDV4KdCOuIYwhWj9",
      "include_colab_link": true
    },
    "kernelspec": {
      "name": "python3",
      "display_name": "Python 3"
    }
  },
  "cells": [
    {
      "cell_type": "markdown",
      "metadata": {
        "id": "view-in-github",
        "colab_type": "text"
      },
      "source": [
        "<a href=\"https://colab.research.google.com/github/anantshahi/Cohort_analysis/blob/master/Github.ipynb\" target=\"_parent\"><img src=\"https://colab.research.google.com/assets/colab-badge.svg\" alt=\"Open In Colab\"/></a>"
      ]
    },
    {
      "cell_type": "code",
      "metadata": {
        "id": "yQ_yZKoOMnE3",
        "outputId": "8c4f9358-88dd-4dd3-cb91-90a806098153",
        "colab": {
          "base_uri": "https://localhost:8080/",
          "height": 36
        }
      },
      "source": [
        "''' author @anantshahi\n",
        "  platform @ Google Colab\n",
        "  Version @3.7.2\n",
        "'''\n",
        "######################### Simple calculator##############################\n",
        "  "
      ],
      "execution_count": 1,
      "outputs": [
        {
          "output_type": "execute_result",
          "data": {
            "application/vnd.google.colaboratory.intrinsic+json": {
              "type": "string"
            },
            "text/plain": [
              "' author @anantshahi\\n  platform @ Google Colab\\n  Version @3.7.2\\n'"
            ]
          },
          "metadata": {
            "tags": []
          },
          "execution_count": 1
        }
      ]
    },
    {
      "cell_type": "code",
      "metadata": {
        "id": "yYBxMIecNlec",
        "outputId": "536561fa-dba5-4ee3-aefb-de52df66025a",
        "colab": {
          "base_uri": "https://localhost:8080/"
        }
      },
      "source": [
        "# Agenda: To take two integer inputs and perform arithmetic operations\n",
        "\n",
        "number1 = int(input('Enter first number'))\n"
      ],
      "execution_count": 11,
      "outputs": [
        {
          "output_type": "stream",
          "text": [
            "Enter first number98\n"
          ],
          "name": "stdout"
        }
      ]
    },
    {
      "cell_type": "code",
      "metadata": {
        "id": "_QZkebdSOCkj",
        "outputId": "d7f5e28c-fdc5-41c4-e5b1-3f330dba9e70",
        "colab": {
          "base_uri": "https://localhost:8080/"
        }
      },
      "source": [
        "number2 = int(input('Enter second number'))\n"
      ],
      "execution_count": 12,
      "outputs": [
        {
          "output_type": "stream",
          "text": [
            "Enter second number76\n"
          ],
          "name": "stdout"
        }
      ]
    },
    {
      "cell_type": "code",
      "metadata": {
        "id": "8DJaDagiOLbn"
      },
      "source": [
        "addition = number1+number2\n",
        "\n",
        "substraction = number1-number2\n",
        "\n",
        "multiplication = number1*number2\n",
        "\n",
        "division = number1/number2\n",
        "\n",
        "modulo = number1%number2\n",
        "\n",
        "floorD = number1//number2\n",
        "\n",
        "exponent = number1**number2\n",
        "\n"
      ],
      "execution_count": 13,
      "outputs": []
    },
    {
      "cell_type": "code",
      "metadata": {
        "id": "0KC7nn4xPE12",
        "outputId": "62770f6c-c9e9-4a17-f519-a9c4d5e7a283",
        "colab": {
          "base_uri": "https://localhost:8080/"
        }
      },
      "source": [
        "print(\"addition is : \\t\",addition)\n",
        "\n",
        "\n",
        "\n"
      ],
      "execution_count": 5,
      "outputs": [
        {
          "output_type": "stream",
          "text": [
            "addition is : \t 121\n"
          ],
          "name": "stdout"
        }
      ]
    },
    {
      "cell_type": "code",
      "metadata": {
        "id": "0eLsZKDLP8KZ",
        "outputId": "3484a1c4-f507-49ca-e85a-7bcc88666b98",
        "colab": {
          "base_uri": "https://localhost:8080/"
        }
      },
      "source": [
        "print(\"substratction is : \\t\",substraction)\n"
      ],
      "execution_count": 6,
      "outputs": [
        {
          "output_type": "stream",
          "text": [
            "substratction is : \t 57\n"
          ],
          "name": "stdout"
        }
      ]
    },
    {
      "cell_type": "code",
      "metadata": {
        "id": "n1NrvtFBQCDi",
        "outputId": "6b09ab0f-3901-472a-ca64-9b6f46525c89",
        "colab": {
          "base_uri": "https://localhost:8080/"
        }
      },
      "source": [
        "print(\"Multiplication is : \\t\",multiplication)"
      ],
      "execution_count": 7,
      "outputs": [
        {
          "output_type": "stream",
          "text": [
            "Multiplication is : \t 2848\n"
          ],
          "name": "stdout"
        }
      ]
    },
    {
      "cell_type": "code",
      "metadata": {
        "id": "fCiGBr64QIPx",
        "outputId": "3dfe6438-f8a2-4653-8c6c-10d50f1ba70c",
        "colab": {
          "base_uri": "https://localhost:8080/"
        }
      },
      "source": [
        "print(\"division is : \\t\",division)"
      ],
      "execution_count": 8,
      "outputs": [
        {
          "output_type": "stream",
          "text": [
            "division is : \t 2.78125\n"
          ],
          "name": "stdout"
        }
      ]
    },
    {
      "cell_type": "code",
      "metadata": {
        "id": "VceQkujCQSfl",
        "outputId": "3b63a80f-45db-43b0-fcf7-44441e5f62c2",
        "colab": {
          "base_uri": "https://localhost:8080/"
        }
      },
      "source": [
        "print(\"modulo is : \\t\",modulo)"
      ],
      "execution_count": 9,
      "outputs": [
        {
          "output_type": "stream",
          "text": [
            "modulo is : \t 25\n"
          ],
          "name": "stdout"
        }
      ]
    },
    {
      "cell_type": "code",
      "metadata": {
        "id": "Mr8Sx9DiQa-C",
        "outputId": "8e7c86ad-4dd4-4f4e-df5a-b64059fcba18",
        "colab": {
          "base_uri": "https://localhost:8080/"
        }
      },
      "source": [
        "print(\"floor  is : \\t\",floorD)"
      ],
      "execution_count": 14,
      "outputs": [
        {
          "output_type": "stream",
          "text": [
            "floor  is : \t 1\n"
          ],
          "name": "stdout"
        }
      ]
    },
    {
      "cell_type": "code",
      "metadata": {
        "id": "kGF7Ioc1SfdG",
        "outputId": "dc18f77f-5bf9-4b85-ffaf-1bbdcf95fdd1",
        "colab": {
          "base_uri": "https://localhost:8080/"
        }
      },
      "source": [
        "print(\"exponent is : \\t\",exponent)"
      ],
      "execution_count": 15,
      "outputs": [
        {
          "output_type": "stream",
          "text": [
            "exponent is : \t 21536828643569064545821523989766916375901656156422969714379660229474586173004618340975140948605460874876371905141687563952783341456558505439549074702336\n"
          ],
          "name": "stdout"
        }
      ]
    },
    {
      "cell_type": "code",
      "metadata": {
        "id": "CBFhFV-WSjjK"
      },
      "source": [
        ""
      ],
      "execution_count": null,
      "outputs": []
    }
  ]
}